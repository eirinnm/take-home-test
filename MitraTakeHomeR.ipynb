{
  "nbformat": 4,
  "nbformat_minor": 0,
  "metadata": {
    "colab": {
      "name": "MitraTakeHome.ipynb",
      "provenance": [],
      "authorship_tag": "ABX9TyO6zcY31tuQF/9NzxY5MnaW",
      "include_colab_link": true
    },
    "kernelspec": {
      "name": "ir",
      "display_name": "R"
    },
    "language_info": {
      "name": "R"
    }
  },
  "cells": [
    {
      "cell_type": "markdown",
      "metadata": {
        "id": "view-in-github",
        "colab_type": "text"
      },
      "source": [
        "<a href=\"https://colab.research.google.com/github/zouden/mitra-test/blob/main/MitraTakeHomeR.ipynb\" target=\"_parent\"><img src=\"https://colab.research.google.com/assets/colab-badge.svg\" alt=\"Open In Colab\"/></a>"
      ]
    },
    {
      "cell_type": "markdown",
      "metadata": {
        "id": "Vfa3BUUkOOWZ"
      },
      "source": [
        "# Processing modification counts with DESeq2\n",
        "\n",
        "In this exercise we will treat the counts of modifications as counts of genes, and use the differential expression package DESeq2 to compare counts between the sample groups.\n",
        "\n",
        "The first step is to install DESeq into the Colab environment. This takes about 15 minutes."
      ]
    },
    {
      "cell_type": "code",
      "metadata": {
        "id": "kG0ihKVtJ_gO"
      },
      "source": [
        "if (!requireNamespace(\"BiocManager\", quietly = TRUE))\n",
        "    install.packages(\"BiocManager\")\n",
        "BiocManager::install(version = \"3.13\")\n",
        "BiocManager::install(\"DESeq2\")\n",
        "library(\"DESeq2\")"
      ],
      "execution_count": null,
      "outputs": []
    },
    {
      "cell_type": "markdown",
      "metadata": {
        "id": "fJR5F71No3ua"
      },
      "source": [
        "## Read the data file\n",
        "Split the dataset into \"A\" and \"B\" counts"
      ]
    },
    {
      "cell_type": "code",
      "metadata": {
        "colab": {
          "base_uri": "https://localhost:8080/",
          "height": 306
        },
        "id": "E2tD3M9WMsc-",
        "outputId": "957ebef5-be86-4c0e-b437-59fe146cec4e"
      },
      "source": [
        "# Read the data file\n",
        "countdata <- read.csv(\"exercise_data.csv\", header=TRUE)\n",
        "geneloci = countdata[c(1,2)]\n",
        "counts.A = countdata[c(3,5,7,9,11,13)]\n",
        "counts.B = countdata[c(4,6,8,10,12,14)]\n",
        "coldata.A = data.frame(row.names = colnames(counts.A), 'group' = c('north','north','north','south','south','south'))\n",
        "coldata.B = data.frame(row.names = colnames(counts.B), 'group' = c('north','north','north','south','south','south'))"
      ],
      "execution_count": 21,
      "outputs": [
        {
          "output_type": "display_data",
          "data": {
            "text/plain": [
              "  Chromosome Position Sample1.A Sample1.B Sample2.A Sample2.B Sample3.A\n",
              "1 chra         6       0        17        10        17         2       \n",
              "2 chra       167      10        10         8        14        15       \n",
              "3 chra       249      19         1        10        16         8       \n",
              "4 chra       288      10         9        13         0         0       \n",
              "5 chra       329      13        15         0         1         3       \n",
              "6 chra       633       5         7         5        12        15       \n",
              "  Sample3.B Sample4.A Sample4.B Sample5.A Sample5.B Sample6.A Sample6.B\n",
              "1 30        19         0         1        0         13         9       \n",
              "2 16         2        15        14        2          6         0       \n",
              "3  0         1         0         9        0         18         8       \n",
              "4 20         7        15         8        0          8        12       \n",
              "5 11         4        18        18        4          6        12       \n",
              "6  3        14         4        10        1          8         1       "
            ],
            "text/latex": "A data.frame: 6 × 14\n\\begin{tabular}{r|llllllllllllll}\n  & Chromosome & Position & Sample1.A & Sample1.B & Sample2.A & Sample2.B & Sample3.A & Sample3.B & Sample4.A & Sample4.B & Sample5.A & Sample5.B & Sample6.A & Sample6.B\\\\\n  & <chr> & <int> & <int> & <int> & <int> & <int> & <int> & <int> & <int> & <int> & <int> & <int> & <int> & <int>\\\\\n\\hline\n\t1 & chra &   6 &  0 & 17 & 10 & 17 &  2 & 30 & 19 &  0 &  1 & 0 & 13 &  9\\\\\n\t2 & chra & 167 & 10 & 10 &  8 & 14 & 15 & 16 &  2 & 15 & 14 & 2 &  6 &  0\\\\\n\t3 & chra & 249 & 19 &  1 & 10 & 16 &  8 &  0 &  1 &  0 &  9 & 0 & 18 &  8\\\\\n\t4 & chra & 288 & 10 &  9 & 13 &  0 &  0 & 20 &  7 & 15 &  8 & 0 &  8 & 12\\\\\n\t5 & chra & 329 & 13 & 15 &  0 &  1 &  3 & 11 &  4 & 18 & 18 & 4 &  6 & 12\\\\\n\t6 & chra & 633 &  5 &  7 &  5 & 12 & 15 &  3 & 14 &  4 & 10 & 1 &  8 &  1\\\\\n\\end{tabular}\n",
            "text/markdown": "\nA data.frame: 6 × 14\n\n| <!--/--> | Chromosome &lt;chr&gt; | Position &lt;int&gt; | Sample1.A &lt;int&gt; | Sample1.B &lt;int&gt; | Sample2.A &lt;int&gt; | Sample2.B &lt;int&gt; | Sample3.A &lt;int&gt; | Sample3.B &lt;int&gt; | Sample4.A &lt;int&gt; | Sample4.B &lt;int&gt; | Sample5.A &lt;int&gt; | Sample5.B &lt;int&gt; | Sample6.A &lt;int&gt; | Sample6.B &lt;int&gt; |\n|---|---|---|---|---|---|---|---|---|---|---|---|---|---|---|\n| 1 | chra |   6 |  0 | 17 | 10 | 17 |  2 | 30 | 19 |  0 |  1 | 0 | 13 |  9 |\n| 2 | chra | 167 | 10 | 10 |  8 | 14 | 15 | 16 |  2 | 15 | 14 | 2 |  6 |  0 |\n| 3 | chra | 249 | 19 |  1 | 10 | 16 |  8 |  0 |  1 |  0 |  9 | 0 | 18 |  8 |\n| 4 | chra | 288 | 10 |  9 | 13 |  0 |  0 | 20 |  7 | 15 |  8 | 0 |  8 | 12 |\n| 5 | chra | 329 | 13 | 15 |  0 |  1 |  3 | 11 |  4 | 18 | 18 | 4 |  6 | 12 |\n| 6 | chra | 633 |  5 |  7 |  5 | 12 | 15 |  3 | 14 |  4 | 10 | 1 |  8 |  1 |\n\n",
            "text/html": [
              "<table class=\"dataframe\">\n",
              "<caption>A data.frame: 6 × 14</caption>\n",
              "<thead>\n",
              "\t<tr><th></th><th scope=col>Chromosome</th><th scope=col>Position</th><th scope=col>Sample1.A</th><th scope=col>Sample1.B</th><th scope=col>Sample2.A</th><th scope=col>Sample2.B</th><th scope=col>Sample3.A</th><th scope=col>Sample3.B</th><th scope=col>Sample4.A</th><th scope=col>Sample4.B</th><th scope=col>Sample5.A</th><th scope=col>Sample5.B</th><th scope=col>Sample6.A</th><th scope=col>Sample6.B</th></tr>\n",
              "\t<tr><th></th><th scope=col>&lt;chr&gt;</th><th scope=col>&lt;int&gt;</th><th scope=col>&lt;int&gt;</th><th scope=col>&lt;int&gt;</th><th scope=col>&lt;int&gt;</th><th scope=col>&lt;int&gt;</th><th scope=col>&lt;int&gt;</th><th scope=col>&lt;int&gt;</th><th scope=col>&lt;int&gt;</th><th scope=col>&lt;int&gt;</th><th scope=col>&lt;int&gt;</th><th scope=col>&lt;int&gt;</th><th scope=col>&lt;int&gt;</th><th scope=col>&lt;int&gt;</th></tr>\n",
              "</thead>\n",
              "<tbody>\n",
              "\t<tr><th scope=row>1</th><td>chra</td><td>  6</td><td> 0</td><td>17</td><td>10</td><td>17</td><td> 2</td><td>30</td><td>19</td><td> 0</td><td> 1</td><td>0</td><td>13</td><td> 9</td></tr>\n",
              "\t<tr><th scope=row>2</th><td>chra</td><td>167</td><td>10</td><td>10</td><td> 8</td><td>14</td><td>15</td><td>16</td><td> 2</td><td>15</td><td>14</td><td>2</td><td> 6</td><td> 0</td></tr>\n",
              "\t<tr><th scope=row>3</th><td>chra</td><td>249</td><td>19</td><td> 1</td><td>10</td><td>16</td><td> 8</td><td> 0</td><td> 1</td><td> 0</td><td> 9</td><td>0</td><td>18</td><td> 8</td></tr>\n",
              "\t<tr><th scope=row>4</th><td>chra</td><td>288</td><td>10</td><td> 9</td><td>13</td><td> 0</td><td> 0</td><td>20</td><td> 7</td><td>15</td><td> 8</td><td>0</td><td> 8</td><td>12</td></tr>\n",
              "\t<tr><th scope=row>5</th><td>chra</td><td>329</td><td>13</td><td>15</td><td> 0</td><td> 1</td><td> 3</td><td>11</td><td> 4</td><td>18</td><td>18</td><td>4</td><td> 6</td><td>12</td></tr>\n",
              "\t<tr><th scope=row>6</th><td>chra</td><td>633</td><td> 5</td><td> 7</td><td> 5</td><td>12</td><td>15</td><td> 3</td><td>14</td><td> 4</td><td>10</td><td>1</td><td> 8</td><td> 1</td></tr>\n",
              "</tbody>\n",
              "</table>\n"
            ]
          },
          "metadata": {
            "tags": []
          }
        }
      ]
    },
    {
      "cell_type": "markdown",
      "metadata": {
        "id": "jiVMJGAlpOWu"
      },
      "source": [
        "## Run DESeq2"
      ]
    },
    {
      "cell_type": "code",
      "metadata": {
        "colab": {
          "base_uri": "https://localhost:8080/"
        },
        "id": "ZWiZ74gSVNPu",
        "outputId": "eb43b1d5-7a9d-4acc-db93-2ecc69d83d5c"
      },
      "source": [
        "# Run DESeq2 on the \"A\" counts\n",
        "\n",
        "dds = DESeqDataSetFromMatrix(countData=counts.A,colData=coldata.A, design = ~ group)\n",
        "dds$group = factor(dds$group, levels=c('north','south'))\n",
        "dds = DESeq(dds)\n",
        "\n",
        "res = results(dds,alpha=0.1)\n",
        "summary(res)\n",
        "results.A = cbind(geneloci, as.data.frame(res))\n"
      ],
      "execution_count": 42,
      "outputs": [
        {
          "output_type": "stream",
          "text": [
            "Warning message in DESeqDataSet(se, design = design, ignoreRank):\n",
            "“some variables in design formula are characters, converting to factors”\n",
            "estimating size factors\n",
            "\n",
            "estimating dispersions\n",
            "\n",
            "gene-wise dispersion estimates\n",
            "\n",
            "mean-dispersion relationship\n",
            "\n",
            "final dispersion estimates\n",
            "\n",
            "fitting model and testing\n",
            "\n"
          ],
          "name": "stderr"
        },
        {
          "output_type": "stream",
          "text": [
            "\n",
            "out of 1100 with nonzero total read count\n",
            "adjusted p-value < 0.1\n",
            "LFC > 0 (up)       : 0, 0%\n",
            "LFC < 0 (down)     : 1, 0.091%\n",
            "outliers [1]       : 0, 0%\n",
            "low counts [2]     : 0, 0%\n",
            "(mean count < 1)\n",
            "[1] see 'cooksCutoff' argument of ?results\n",
            "[2] see 'independentFiltering' argument of ?results\n",
            "\n"
          ],
          "name": "stdout"
        }
      ]
    },
    {
      "cell_type": "code",
      "metadata": {
        "colab": {
          "base_uri": "https://localhost:8080/"
        },
        "id": "AjNXYGlYVn6w",
        "outputId": "894e0e45-17a0-4893-8627-45e1818b016a"
      },
      "source": [
        "# Run DESeq2 on the \"B\" counts\n",
        "\n",
        "dds = DESeqDataSetFromMatrix(countData=counts.B,colData=coldata.B, design = ~ group)\n",
        "dds$group = factor(dds$group, levels=c('north','south'))\n",
        "dds = DESeq(dds)\n",
        "\n",
        "res = results(dds,alpha=0.1)\n",
        "summary(res)\n",
        "results.B = cbind(geneloci, as.data.frame(res))\n"
      ],
      "execution_count": 43,
      "outputs": [
        {
          "output_type": "stream",
          "text": [
            "Warning message in DESeqDataSet(se, design = design, ignoreRank):\n",
            "“some variables in design formula are characters, converting to factors”\n",
            "estimating size factors\n",
            "\n",
            "estimating dispersions\n",
            "\n",
            "gene-wise dispersion estimates\n",
            "\n",
            "mean-dispersion relationship\n",
            "\n",
            "final dispersion estimates\n",
            "\n",
            "fitting model and testing\n",
            "\n"
          ],
          "name": "stderr"
        },
        {
          "output_type": "stream",
          "text": [
            "\n",
            "out of 1100 with nonzero total read count\n",
            "adjusted p-value < 0.1\n",
            "LFC > 0 (up)       : 0, 0%\n",
            "LFC < 0 (down)     : 0, 0%\n",
            "outliers [1]       : 0, 0%\n",
            "low counts [2]     : 0, 0%\n",
            "(mean count < 1)\n",
            "[1] see 'cooksCutoff' argument of ?results\n",
            "[2] see 'independentFiltering' argument of ?results\n",
            "\n"
          ],
          "name": "stdout"
        }
      ]
    },
    {
      "cell_type": "markdown",
      "metadata": {
        "id": "cDGPj5WepUXk"
      },
      "source": [
        "## Merge results tables\n",
        "Then select for \"significant\" loci from both A and B. We use a P value cutoff of 0.1. This is the uncorrected P value."
      ]
    },
    {
      "cell_type": "code",
      "metadata": {
        "colab": {
          "base_uri": "https://localhost:8080/",
          "height": 349
        },
        "id": "I1gq9vx0eR6v",
        "outputId": "abda8778-a216-495e-f1fd-7adf71db28fe"
      },
      "source": [
        "# Merge two results tables\n",
        "tab.A = results.A[c('Chromosome','Position','pvalue')]\n",
        "tab.B = results.B[c('Chromosome','Position','pvalue')]\n",
        "merged = cbind(tab.A, pvalue.B=tab.B$pvalue)\n",
        "\n",
        "# Select relevant loci from both tables.\n",
        "subset(merged,pvalue<0.1 & pvalue.B<0.1)"
      ],
      "execution_count": 54,
      "outputs": [
        {
          "output_type": "display_data",
          "data": {
            "text/plain": [
              "     Chromosome Position pvalue      pvalue.B   \n",
              "201  chrc         42     0.046706966 0.002886657\n",
              "214  chrc       1029     0.028812214 0.063841347\n",
              "501  chrf        254     0.009805019 0.020734684\n",
              "631  chrg       3441     0.014457826 0.019694698\n",
              "763  chrh       6898     0.015956208 0.081575779\n",
              "795  chrh       9716     0.040778296 0.048044750\n",
              "876  chri       7617     0.094598080 0.083604092\n",
              "1026 chrk       2389     0.076673461 0.048714140"
            ],
            "text/latex": "A data.frame: 8 × 4\n\\begin{tabular}{r|llll}\n  & Chromosome & Position & pvalue & pvalue.B\\\\\n  & <chr> & <int> & <dbl> & <dbl>\\\\\n\\hline\n\t201 & chrc &   42 & 0.046706966 & 0.002886657\\\\\n\t214 & chrc & 1029 & 0.028812214 & 0.063841347\\\\\n\t501 & chrf &  254 & 0.009805019 & 0.020734684\\\\\n\t631 & chrg & 3441 & 0.014457826 & 0.019694698\\\\\n\t763 & chrh & 6898 & 0.015956208 & 0.081575779\\\\\n\t795 & chrh & 9716 & 0.040778296 & 0.048044750\\\\\n\t876 & chri & 7617 & 0.094598080 & 0.083604092\\\\\n\t1026 & chrk & 2389 & 0.076673461 & 0.048714140\\\\\n\\end{tabular}\n",
            "text/markdown": "\nA data.frame: 8 × 4\n\n| <!--/--> | Chromosome &lt;chr&gt; | Position &lt;int&gt; | pvalue &lt;dbl&gt; | pvalue.B &lt;dbl&gt; |\n|---|---|---|---|---|\n| 201 | chrc |   42 | 0.046706966 | 0.002886657 |\n| 214 | chrc | 1029 | 0.028812214 | 0.063841347 |\n| 501 | chrf |  254 | 0.009805019 | 0.020734684 |\n| 631 | chrg | 3441 | 0.014457826 | 0.019694698 |\n| 763 | chrh | 6898 | 0.015956208 | 0.081575779 |\n| 795 | chrh | 9716 | 0.040778296 | 0.048044750 |\n| 876 | chri | 7617 | 0.094598080 | 0.083604092 |\n| 1026 | chrk | 2389 | 0.076673461 | 0.048714140 |\n\n",
            "text/html": [
              "<table class=\"dataframe\">\n",
              "<caption>A data.frame: 8 × 4</caption>\n",
              "<thead>\n",
              "\t<tr><th></th><th scope=col>Chromosome</th><th scope=col>Position</th><th scope=col>pvalue</th><th scope=col>pvalue.B</th></tr>\n",
              "\t<tr><th></th><th scope=col>&lt;chr&gt;</th><th scope=col>&lt;int&gt;</th><th scope=col>&lt;dbl&gt;</th><th scope=col>&lt;dbl&gt;</th></tr>\n",
              "</thead>\n",
              "<tbody>\n",
              "\t<tr><th scope=row>201</th><td>chrc</td><td>  42</td><td>0.046706966</td><td>0.002886657</td></tr>\n",
              "\t<tr><th scope=row>214</th><td>chrc</td><td>1029</td><td>0.028812214</td><td>0.063841347</td></tr>\n",
              "\t<tr><th scope=row>501</th><td>chrf</td><td> 254</td><td>0.009805019</td><td>0.020734684</td></tr>\n",
              "\t<tr><th scope=row>631</th><td>chrg</td><td>3441</td><td>0.014457826</td><td>0.019694698</td></tr>\n",
              "\t<tr><th scope=row>763</th><td>chrh</td><td>6898</td><td>0.015956208</td><td>0.081575779</td></tr>\n",
              "\t<tr><th scope=row>795</th><td>chrh</td><td>9716</td><td>0.040778296</td><td>0.048044750</td></tr>\n",
              "\t<tr><th scope=row>876</th><td>chri</td><td>7617</td><td>0.094598080</td><td>0.083604092</td></tr>\n",
              "\t<tr><th scope=row>1026</th><td>chrk</td><td>2389</td><td>0.076673461</td><td>0.048714140</td></tr>\n",
              "</tbody>\n",
              "</table>\n"
            ]
          },
          "metadata": {
            "tags": []
          }
        }
      ]
    },
    {
      "cell_type": "markdown",
      "metadata": {
        "id": "fDatbFJJrrxY"
      },
      "source": [
        "## Conclusion\n",
        "No genes (loci) have a significant P value according to DESeq2, but we can still use the results to highlight the loci with the biggest changes between the north/south populations. These 8 loci have differences in both A and B modifications."
      ]
    }
  ]
}